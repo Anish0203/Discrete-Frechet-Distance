import numpy as np

def c(m, i, j, p, q):

   if m[i, j] > -1:
       return m[i, j]
   elif i == 0 and j == 0:
       m[i, j] = np.linalg.norm(p[i]-q[j])
   elif i > 0 and j == 0:
       m[i, j] = max(c(m, i-1, 0, p, q), np.linalg.norm(p[i]-q[j]))
   elif i == 0 and j > 0:
       m[i, j] = max(c(m, 0, j-1, p, q), np.linalg.norm(p[i]-q[j]))
   elif i > 0 and j > 0:
       m[i, j] = max(
           min(              
               c(m, i-1, j, p, q),
               c(m, i-1, j-1, p, q),
               c(m, i, j-1, p, q)
           ),
           np.linalg.norm(p[i]-q[j])
           )
   else:
       m[i, j] = float('inf')

   return m[i, j]

def frdist(p, q):
   p = np.array(p, np.float64)
   q = np.array(q, np.float64)
   len_p = len(p)
   len_q = len(q)
   if len_p == 0 or len_q == 0:
       raise ValueError('Input curves are empty.')

   if len(p[0]) != len(q[0]):
       raise ValueError('Input curves do not have the same dimensions.')

   m = (np.ones((len_p, len_q), dtype=np.float64) * -1)
   dist = c(m, len_p-1, len_q-1, p, q)
   for i in range(len_p):
        for j in range(len_q):
            if dist==np.linalg.norm(p[i]-q[j]):
                print("Co-odinates: ",p[i],q[j])
                
   print("Frechet distance:",dist)
